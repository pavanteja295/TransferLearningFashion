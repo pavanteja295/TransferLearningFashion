{
 "cells": [
  {
   "cell_type": "markdown",
   "metadata": {},
   "source": [
    "<h1> <center> Transfer Learning </center> </h1>"
   ]
  },
  {
   "cell_type": "markdown",
   "metadata": {},
   "source": [
    "<h2> 1.Fashion data analysis </h2>\n",
    "\n",
    " <h3> <center>Pretrain data </center></h3>\n",
    " Total Num class : 20\n",
    " \n",
    "| Category | Instance(Train + val ) | Num classes  |\n",
    "| --- | --- | --- |\n",
    "| Very Good | < 3000 | 2 |\n",
    "| Good | 1500 - 3000| 6|\n",
    "| Medium | 900 - 1500 | 4 |\n",
    "| Less | 600 - 900 | 8 |\n",
    "\n",
    "<br>\n",
    "<br>\n",
    "\n",
    " <h3> <center> Finetune data </center></h3>\n",
    " Total Num class : 122\n",
    " \n",
    "| Category | Instance(Train + val ) | Num classes  |\n",
    "| --- | --- | --- |\n",
    "| Very Good | 300 - 500| 11 |\n",
    "| Good | 150 - 300| 14|\n",
    "| Medium | 50 - 150 | 25 |\n",
    "| Less | 10 - 50| 37 |\n",
    "| Very less | 0 - 10 | 35 |\n",
    "\n",
    "<h3>  Some insights </h3>\n",
    "      <ol> \n",
    "    <li> <b> Comparision with CIFAR-100 </b> : <\\li>\n",
    "        <ul> \n",
    "            <li> Finetune's best category (Very Good) has num examples equal to CIFAR-100 data </li>\n",
    "            <li> However the class imbalance in finetune is evident by comparision with CIFAR-100</li>\n",
    "            <li> This is not the case for pretrain classes. Class with least number of samples ~ 400. </li>\n",
    "            <li> With the best interest to achieve maximum accuracy Sampling or other methods are not experimented for Pretraining</li>\n",
    "            <li> This comparision helps us to set the initial hyper-parameters for this problem</li>\n",
    "        </ul>\n"
   ]
  },
  {
   "cell_type": "markdown",
   "metadata": {},
   "source": [
    "<h2>2. Training details for pretraining:</h2>\n",
    "<h3> <center>2.1 Pretrain Model </center></h3>\n",
    "      <ul> \n",
    "    <li> <b> Models </b> : ResNet18, Custom Resnet18(Initial 7x7 replaced with 3x3) <\\li>\n",
    "         <li> Image size : 300 x 400px, 80 x 60px  </li>\n",
    "        <li> Model input size : 224 x 224px, 80 x 80px </li>\n",
    "        <li> Augmentations:  Color Jitter RandomResize, Center Crop, Scale [0,1], Normalize with Imagenet, </li>\n",
    "        <li> Epochs : 200, LR drop @ 60, 120, 200 </li>\n",
    "        <li> LR rate : SGD with lr 0.1 momentum 0.9  </li>\n",
    "        <li> Intiailization : Imagenet baseline , Trained from Scratch </li>\n",
    "      </ul>        \n",
    "        \n",
    "<h3> <center>2.2 Finetune Model </center></h3>\n",
    "      <ul> \n",
    "    <li> <b> Models </b> : ResNet18, Custom Resnet18(Initial 7x7 replaced with 3x3) <\\li>\n",
    "         <li> Image size : 300 x 400px, 80 x 60px  </li>\n",
    "        <li> Model input size : 224 x 224px, 80 x 80px </li>\n",
    "        <li> Augmentations:  Color Jitter RandomResize, Center Crop, Scale [0,1], Normalize with Imagenet, </li>\n",
    "        <li> Epochs : 200, LR drop @ 60, 120, 200 </li>\n",
    "        <li> LR rate : SGD with lr 0.1 momentum 0.9  </li>\n",
    "        <li> Intialization: Pretrained on Fashion-Top20, Trained from scratch </li>\n",
    "        <li> Samplers: None, Oversampling based on the instances in train /test </li>\n",
    "      </ul>    "
   ]
  },
  {
   "cell_type": "markdown",
   "metadata": {},
   "source": [
    "<h2>3.Results:</h2>\n",
    "\n",
    "Resnet 18 = ResNet18\n",
    "Custom Resnet18 : CResnet <br/>\n",
    "Model M with Imagenet pre-training: M_IN<br/>\n",
    "Model trained with Img size IM X IM = M_IMpx\n",
    "\n",
    "<h3> 3.1 Pretraining </h3>\n",
    "<h4> <center>  Accuracy </center></h4>\n",
    "\n",
    "\n",
    "| Model Name | Acc | Very Good  |  Good  | Medium  | Less  | Top 5 |\n",
    "| --- | --- | --- | --- | --- |--- | --- |\n",
    "| ResNet_80px  | 84.3 | 91.11 |82.23 | 89.03 | 68.52| 93.43\n",
    "| CResNet_80px | 87.25|95.23| 84.29 | 91.21 | 70.2|96.72\n",
    "| ResNet_IN_224px | 87.02|  95.16| 82.1 | 90.2 | 71.8|95.58\n",
    "| ResNet_50 | 86.8 | 94.71 | 81.74 | 89.1| 72.31|95.21\n",
    "\n",
    "![Train/Test Curves](images/pretrain.png)|\n"
   ]
  },
  {
   "cell_type": "markdown",
   "metadata": {},
   "source": [
    "<h3> 3.2 Finetuning </h3>\n",
    "\n",
    "| Model Name | Acc | \n",
    "| --- | --- | --- | --- | --- |--- | --- |\n",
    "| ResNet_224px with freeze till layer 4 pretrained*  | 46.72 | \n",
    "| ResNet_224px with freeze only FC pretrained| 39.39|\n",
    "| ResNet_224px with  weight decay 0  |37.09|   \n",
    "| ResNet_224px trained from scratch | 45.82 | \n",
    "| ResNet_224px with weighted Sampler | 12-11 |\n",
    "\n",
    "\n",
    "\n",
    "\n",
    "![Train/Test Curves](images/finetune.png)|\n",
    "\n",
    "<h1> Notes on Finetuning </h1>\n",
    "<h2> Effect of Pretraining </h2>\n",
    "     ![Train/Test Curves](images/Effect of Pretraining.png)\n",
    " \n",
    "<h2> Freezing Last vs Layer 4 </h2>\n",
    " ![Train/Test Curves](images/Last Layer vs Layer 4 freeze.png)\n",
    "<h2> Effect of sampler </h2>\n",
    "![Train/Test Curves](images/effect of sampler.png)\n",
    "\n",
    "\n"
   ]
  },
  {
   "cell_type": "markdown",
   "metadata": {},
   "source": [
    "<h3> Final thoughts </h3>\n",
    "1. <a href= 'https://tinyurl.com/t7m6ny6'> Tensor Board  </a>\n",
    "2. Using simple <b>non-parametric methods</b> such as nearest neighbour classfiers could work much better than the deep learning model. Train a feature extractor and use metric learning.\n",
    "3. Model's heavily over fit on the Fashion data some experiments with different regularization could be worth doing.\n",
    "4. There exists a sweet sport between  freeze till final layer vs train from scratch.\n"
   ]
  },
  {
   "cell_type": "code",
   "execution_count": null,
   "metadata": {},
   "outputs": [],
   "source": []
  }
 ],
 "metadata": {
  "kernelspec": {
   "display_name": "Python 3",
   "language": "python",
   "name": "python3"
  },
  "language_info": {
   "codemirror_mode": {
    "name": "ipython",
    "version": 3
   },
   "file_extension": ".py",
   "mimetype": "text/x-python",
   "name": "python",
   "nbconvert_exporter": "python",
   "pygments_lexer": "ipython3",
   "version": "3.6.9"
  }
 },
 "nbformat": 4,
 "nbformat_minor": 2
}
